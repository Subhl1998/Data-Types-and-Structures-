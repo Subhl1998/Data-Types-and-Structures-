{
  "nbformat": 4,
  "nbformat_minor": 0,
  "metadata": {
    "colab": {
      "provenance": []
    },
    "kernelspec": {
      "name": "python3",
      "display_name": "Python 3"
    },
    "language_info": {
      "name": "python"
    }
  },
  "cells": [
    {
      "cell_type": "markdown",
      "source": [],
      "metadata": {
        "id": "eN7AJ6tmFXFL"
      }
    },
    {
      "cell_type": "markdown",
      "source": [
        "Q1. What are data structures, and why are they important ?->\n",
        "\n",
        " > Data structures are ways to organize and store data in a computer so that it can be used efficiently.\n",
        "\n",
        " Why are they important?\n",
        "\n",
        " > They help programs store data properly\n",
        " Make it easier and faster to access, search, and modify data\n",
        " Without good data structures, programs would be slow and complicated\n",
        " They form the foundation for algorithms and solving real-world problems"
      ],
      "metadata": {
        "id": "k7kzV2DLoEOR"
      }
    },
    {
      "cell_type": "markdown",
      "source": [
        "Q2. Explain the difference between mutable and immutable\n",
        " data types with examples?\n",
        "\n",
        "  > Mutable data types are those whose values can be changed after they are created.\n",
        "\n",
        " > Immutable data types are those whose values cannot be changed once created"
      ],
      "metadata": {
        "id": "OtkvnHDroF4X"
      }
    },
    {
      "cell_type": "code",
      "source": [
        "# Mutable example\n",
        "my_list = [1, 2, 3]\n",
        "my_list[0] = 10\n",
        "# Works fine, list ke elements change ho sakte hain\n",
        "print(\"Mutable list after change:\", my_list)  # Output: [10, 2, 3]\n",
        "\n",
        " # Immutable example\n",
        "my_str = \"hello\"\n",
        "try:\n",
        "\n",
        " my_str[0] = \"H\"\n",
        "except TypeError as e:\n",
        " print(\"Error:\", e)"
      ],
      "metadata": {
        "colab": {
          "base_uri": "https://localhost:8080/"
        },
        "id": "2zfj5ty3oH6h",
        "outputId": "3402c816-9391-443b-c938-b2d9ffdf6a28"
      },
      "execution_count": 13,
      "outputs": [
        {
          "output_type": "stream",
          "name": "stdout",
          "text": [
            "Mutable list after change: [10, 2, 3]\n",
            "Error: 'str' object does not support item assignment\n"
          ]
        }
      ]
    },
    {
      "cell_type": "markdown",
      "source": [
        "Q3. What are the main differences between lists and tuples\n",
        " in Python?\n",
        " > | **Feature**           | **List**                                                        | **Tuple**                                                                               |\n",
        "| --------------------- | --------------------------------------------------------------- | --------------------------------------------------------------------------------------- |\n",
        "| **Definition**        | Ordered collection of items.                                    | Ordered collection of items.                                                            |\n",
        "| **Syntax**            | Written with square brackets `[]`                               | Written with round brackets `()`                                                        |\n",
        "| **Mutability**        | **Mutable** → can be changed (add, remove, update elements).    | **Immutable** → cannot be changed after creation.                                       |\n",
        "| **Methods Available** | Many methods: `append()`, `remove()`, `extend()`, `pop()`, etc. | Very few methods: mainly `count()` and `index()`.                                       |\n",
        "| **Performance**       | Slightly slower (because of mutability & flexibility).          | Faster (immutable, uses less memory).                                                   |\n",
        "| **Use Cases**         | When you need a collection that may change (dynamic data).      | When you need fixed data that shouldn’t change (constants, dictionary keys, safe data). |\n",
        "| **Example**           | `fruits = [\"apple\", \"banana\", \"mango\"]`                         | `coordinates = (10, 20, 30)`                                                            |\n"
      ],
      "metadata": {
        "id": "DduTUzpxoQSm"
      }
    },
    {
      "cell_type": "code",
      "source": [
        " # List example\n",
        " my_list = [1, 2, 3]\n",
        " my_list[0] = 10   # Works fine\n",
        " # Tuple example\n",
        " my_tuple = (1, 2, 3)\n",
        " # my_tuple[0] = 10  # Error: tuples cannot be changed"
      ],
      "metadata": {
        "id": "rO1WgN5loVyw"
      },
      "execution_count": null,
      "outputs": []
    },
    {
      "cell_type": "markdown",
      "source": [
        "Q4. Describe how dictionaries store data?\n",
        "\n",
        "> A dictionary stores data as key-value pairs.\n",
        " Each key is unique and is used to access its corresponding value.\n",
        " Dictionaries are mutable, so you can add, update, or remove items.\n",
        " Internally, dictionaries use a hash table for fast lookups."
      ],
      "metadata": {
        "id": "H3zZOC6VoWlh"
      }
    },
    {
      "cell_type": "code",
      "source": [
        " #Creating a dictionary\n",
        " student = {\n",
        " \"name\": \"Ritesh\",\n",
        " \"age\": 21,\n",
        " \"course\": \"Engineering\"\n",
        " }\n",
        " # Accessing data\n",
        " print(student[\"name\"])  # Output: Ritesh\n",
        " # Adding new key-value pair\n",
        "student[\"grade\"] = \"A\"\n",
        " # Updating value\n",
        "student[\"age\"] = 22"
      ],
      "metadata": {
        "colab": {
          "base_uri": "https://localhost:8080/"
        },
        "id": "t1EJ6xe8ocwJ",
        "outputId": "77ff0a18-07d5-439c-a21b-fb50388bb3a8"
      },
      "execution_count": 14,
      "outputs": [
        {
          "output_type": "stream",
          "name": "stdout",
          "text": [
            "Ritesh\n"
          ]
        }
      ]
    },
    {
      "cell_type": "markdown",
      "source": [
        "Q5. Why might you use a set instead of a list in Python?\n",
        "\n",
        " > Sets are collections of unique elements, they automatically remove duplicates.\n",
        " They are unordered, so elements don’t have a specific position.\n",
        " Sets provide faster membership testing (\n",
        " in\n",
        " operator) compared to lists.\n",
        " Useful when you want to eliminate duplicates or perform mathematical operations like\n",
        " union, intersection, difference."
      ],
      "metadata": {
        "id": "SkDA0eMXofWm"
      }
    },
    {
      "cell_type": "code",
      "source": [
        " # List with duplicates\n",
        " my_list = [1, 2, 2, 3, 4, 4, 5]\n",
        " # Convert to set to remove duplicates\n",
        " my_set = set(my_list)\n",
        " print(my_set)  # Output: {1, 2, 3, 4, 5}\n",
        " # Membership test\n",
        " print(3 in my_set)  # True (fast check)"
      ],
      "metadata": {
        "colab": {
          "base_uri": "https://localhost:8080/"
        },
        "id": "GwGKjg39ohug",
        "outputId": "880eb043-d2ad-4307-a880-3915832d7121"
      },
      "execution_count": 17,
      "outputs": [
        {
          "output_type": "stream",
          "name": "stdout",
          "text": [
            "{1, 2, 3, 4, 5}\n",
            "True\n"
          ]
        }
      ]
    },
    {
      "cell_type": "markdown",
      "source": [
        " Q6. What is a string in Python, and how is it different from\n",
        " a list?\n",
        "\n",
        " > A string is a sequence of characters enclosed in quotes (\n",
        " ' '\n",
        " or\n",
        "\" \"\n",
        " ).\n",
        " Strings are immutable, meaning once created, their content cannot be changed.\n",
        " Strings are used to represent text data\n",
        "\n",
        ""
      ],
      "metadata": {
        "id": "TJxdUeqqolA7"
      }
    },
    {
      "cell_type": "code",
      "source": [
        "# String example\n",
        "my_str = \"Hello\"\n",
        " # my_str[0] = \"h\"  # Error: strings are immutable\n",
        " # List example\n",
        "my_list = ['H', 'e', 'l', 'l', 'o']\n",
        "my_list[0] = 'h'   # Works fine\n",
        "print(my_list)\n",
        "# Output: ['h', 'e', 'l', 'l', 'o']"
      ],
      "metadata": {
        "colab": {
          "base_uri": "https://localhost:8080/"
        },
        "id": "P23jUNAboneJ",
        "outputId": "d024a67f-3636-48c4-c511-bcf766ee6382"
      },
      "execution_count": 19,
      "outputs": [
        {
          "output_type": "stream",
          "name": "stdout",
          "text": [
            "['h', 'e', 'l', 'l', 'o']\n"
          ]
        }
      ]
    },
    {
      "cell_type": "markdown",
      "source": [
        " Q7. How do tuples ensure data integrity in Python?\n",
        "\n",
        ">  Tuples are immutable, which means once a tuple is created, its contents cannot be\n",
        " changed.\n",
        " This immutability protects the data from accidental modification or deletion.\n",
        " Because tuples cannot be altered, they are safer to use for fixed data that should not be\n",
        " modified.\n",
        " This helps in maintaining data integrity especially when passing data between functions\n",
        " or modules.\n",
        " Tuples can also be used as keys in dictionaries because they are immutable."
      ],
      "metadata": {
        "id": "_ThdVE6go3MS"
      }
    },
    {
      "cell_type": "code",
      "source": [
        " my_tuple = (10, 20, 30)\n",
        " # my_tuple[0] = 100  # Error: tuples cannot be changed\n",
        " print(my_tuple)  # Output: (10, 20, 30)"
      ],
      "metadata": {
        "colab": {
          "base_uri": "https://localhost:8080/"
        },
        "id": "8FP_fteGo4o5",
        "outputId": "bd3fc217-6f14-4f87-a57c-fd8594f6ba59"
      },
      "execution_count": 20,
      "outputs": [
        {
          "output_type": "stream",
          "name": "stdout",
          "text": [
            "(10, 20, 30)\n"
          ]
        }
      ]
    },
    {
      "cell_type": "markdown",
      "source": [
        " Q8. What is a hash table, and how does it relate to\n",
        " dictionaries in Python?\n",
        "\n",
        " > A hash table is a data structure that stores key-value pairs.\n",
        " It uses a hash function to compute an index (called a hash) into an array, where the value\n",
        " is stored.\n",
        " This allows fast data lookup, insertion, and deletion, usually in constant time O(1)\n",
        "\n",
        "  How Does It Relate to Python Dictionaries?\n",
        "\n",
        " > Python dictionaries are implemented using hash tables internally.\n",
        " When you use a dictionary, Python computes the hash of the key and stores the value at that position.\n",
        " This is why dictionary operations like dict[key] are very fast.\n",
        " Keys in dictionaries must be hashable (immutable data types like strings, numbers,tuples)"
      ],
      "metadata": {
        "id": "2N8jpXIso7ll"
      }
    },
    {
      "cell_type": "markdown",
      "source": [],
      "metadata": {
        "id": "Ln2mdbmupA3c"
      }
    },
    {
      "cell_type": "code",
      "source": [
        " my_dict = {'name': 'Ritesh', 'age': 21}\n",
        " print(my_dict['name'])  # Output: Ritesh"
      ],
      "metadata": {
        "colab": {
          "base_uri": "https://localhost:8080/"
        },
        "id": "BMxXEYacpGfn",
        "outputId": "d38a4a63-655e-4f02-995f-3bd116f85902"
      },
      "execution_count": 21,
      "outputs": [
        {
          "output_type": "stream",
          "name": "stdout",
          "text": [
            "Ritesh\n"
          ]
        }
      ]
    },
    {
      "cell_type": "markdown",
      "source": [
        "Q9. Can lists contain different data types in Python?\n",
        "\n",
        " > Yes, lists in Python can contain elements of different data types.\n",
        " A single list can have integers, strings, floats, booleans, and even other lists or objects.\n",
        " This makes lists very flexible and useful for storing mixed data"
      ],
      "metadata": {
        "id": "3aXw00wZpLE8"
      }
    },
    {
      "cell_type": "code",
      "source": [
        " #Example:\n",
        " my_list = [10, \"hello\", 3.14, True, [1, 2, 3]]\n",
        " print(my_list)\n",
        " # Output: [10, 'hello', 3.14, True, [1, 2, 3]]"
      ],
      "metadata": {
        "colab": {
          "base_uri": "https://localhost:8080/"
        },
        "id": "jSZVSWOwpNZJ",
        "outputId": "18a2956a-db0c-4d2b-a0ff-6ff9accf7b8b"
      },
      "execution_count": 23,
      "outputs": [
        {
          "output_type": "stream",
          "name": "stdout",
          "text": [
            "[10, 'hello', 3.14, True, [1, 2, 3]]\n"
          ]
        }
      ]
    },
    {
      "cell_type": "markdown",
      "source": [
        "Q10. Explain why strings are immutable in Python?\n",
        "\n",
        " > Strings are immutable, meaning once created, their contents cannot be changed.\n",
        " This design choice helps Python to:\n",
        "\n",
        "  Optimize memory usage by allowing string reuse (string interning).\n",
        " Make strings thread-safe (safe to use in multiple parts of a program without\n",
        " unintended changes).\n",
        "\n",
        "  Prevent bugs by avoiding accidental changes to string data.\n",
        " When you modify a string, Python actually creates a new string instead of changing the original."
      ],
      "metadata": {
        "id": "1V7VUtnTpO9R"
      }
    },
    {
      "cell_type": "markdown",
      "source": [
        "Q11. What advantages do dictionaries offer over lists for\n",
        " certain tasks?\n",
        "\n",
        " > Fast Lookup:\n",
        " Dictionaries provide fast access to values using keys (usually in constant time O(1)), while\n",
        " lists require searching through elements (O(n)).\n",
        "\n",
        " > Key-Value Pair Storage:\n",
        " Dictionaries store data as key-value pairs, making it easy to represent relationships (like a\n",
        " person's name and age), whereas lists store ordered items without keys.\n",
        " Uniqueness of Keys:\n",
        " Keys in dictionaries are unique, preventing duplicate entries for the same key.\n",
        " Flexible Data Access:\n",
        " You can access data directly by key rather than by position or index."
      ],
      "metadata": {
        "id": "iKd0rIJ3pXAD"
      }
    },
    {
      "cell_type": "markdown",
      "source": [
        "Q12. Describe a scenario where using a tuple would be\n",
        " preferable over a list.\n",
        "\n",
        " > A tuple is preferable when you want to store fixed, unchangeable data that should remain\n",
        " constant throughout the program"
      ],
      "metadata": {
        "id": "AhY6TdJGpZB3"
      }
    },
    {
      "cell_type": "code",
      "source": [
        "#Example Scenario:\n",
        " #Storing geographical coordinates of a location.\n",
        " # Using a tuple for fixed coordinates\n",
        "location = (28.6139, 77.2090)  # Latitude, Longitude\n",
        " # location[0] = 29.0000  # This will cause an error (immutable)\n",
        "print(location)  # Output: (28.6139, 77.2090)"
      ],
      "metadata": {
        "colab": {
          "base_uri": "https://localhost:8080/"
        },
        "id": "j04CWZ3apesQ",
        "outputId": "f6c7362a-ecd0-4dab-e2b0-74168b064193"
      },
      "execution_count": 25,
      "outputs": [
        {
          "output_type": "stream",
          "name": "stdout",
          "text": [
            "(28.6139, 77.209)\n"
          ]
        }
      ]
    },
    {
      "cell_type": "code",
      "source": [],
      "metadata": {
        "id": "Kj8bq-CsIAtF"
      },
      "execution_count": null,
      "outputs": []
    },
    {
      "cell_type": "markdown",
      "source": [
        "Q13. How do sets handle duplicate values in Python?\n",
        "\n",
        "> Key Point:\n",
        " In Python, sets automatically remove duplicates.\n",
        " They store only unique elements and ignore any repeated values."
      ],
      "metadata": {
        "id": "4P3vB4ISphek"
      }
    },
    {
      "cell_type": "markdown",
      "source": [
        "Q14. How does the “in” keyword work differently for lists\n",
        " and dictionaries?\n",
        "\n",
        "> In Lists:\n",
        " in checks if the given element exists anywhere in the list.\n",
        "\n",
        "> In Dictionaries:\n",
        " in checks only if the given value exists as a key, not as a value"
      ],
      "metadata": {
        "id": "YFuDtnmipn7M"
      }
    },
    {
      "cell_type": "code",
      "source": [
        "# Example for list\n",
        "my_list = [1, 2, 3]\n",
        "print(2 in my_list)   # True\n",
        "print(5 in my_list)   # False\n",
        " # Example for dictionary\n",
        "my_dict = {\"a\": 1, \"b\": 2}\n",
        "print(\"a\" in my_dict)\n",
        "print(1 in my_dict)\n",
        "# True (key exists)\n",
        " # False (1 is a value, not a key)\n",
        "print(1 in my_dict.values())  # True (checks in values)"
      ],
      "metadata": {
        "colab": {
          "base_uri": "https://localhost:8080/"
        },
        "id": "Mykw9ieGplm6",
        "outputId": "17024365-f1ee-441b-f227-5e8dbdeade2a"
      },
      "execution_count": 12,
      "outputs": [
        {
          "output_type": "stream",
          "name": "stdout",
          "text": [
            "True\n",
            "False\n",
            "True\n",
            "False\n",
            "True\n"
          ]
        }
      ]
    },
    {
      "cell_type": "markdown",
      "source": [
        " Q15. Can you modify the elements of a tuple? Explain why\n",
        " or why not?\n",
        "\n",
        " > No, you cannot modify the elements of a tuple in Python because tuples are immutable.\n",
        " Once a tuple is created, its elements cannot be changed, added, or removed.\n",
        " This immutability makes tuples useful for storing fixed data that should not change during\n",
        " program execution."
      ],
      "metadata": {
        "id": "_rApQJYSptna"
      }
    },
    {
      "cell_type": "markdown",
      "source": [
        "Q16. What is a nested dictionary, and give an example of\n",
        " its use case?\n",
        "\n",
        " > A nested dictionary in Python is a dictionary inside another dictionary.\n",
        " It is used to store complex and structured data in a hierarchical form.\n",
        "\n",
        " > Key Points:\n",
        " Allows data to be grouped together logically.\n",
        " Useful for representing data that has multiple levels (e.g., students with subject marks,\n",
        " company with departments and employees).\n",
        " Access data using multiple keys"
      ],
      "metadata": {
        "id": "iZpEhGqHpzjY"
      }
    },
    {
      "cell_type": "code",
      "source": [
        "#Example: Student Information\n",
        " # Creating a nested dictionary\n",
        "students = {\n",
        " \"student1\": {\"name\": \"Alice\", \"age\": 20, \"marks\": {\"Math\": 90, \"Science\": 85}},\n",
        " \"student2\": {\"name\": \"Bob\", \"age\": 21, \"marks\": {\"Math\": 78, \"Science\": 88}}\n",
        " }\n",
        " # Accessing nested values\n",
        "print(students[\"student1\"][\"name\"])\n",
        "# Output: Alice\n",
        "print(students[\"student1\"][\"marks\"][\"Math\"])  # Output: 90\n",
        " # Modifying a value in nested dictionary\n",
        "students[\"student2\"][\"marks\"][\"Science\"] = 92\n",
        "print(students)"
      ],
      "metadata": {
        "colab": {
          "base_uri": "https://localhost:8080/"
        },
        "id": "FBFsPEPap9Nn",
        "outputId": "04f5c5f4-b1bc-4e76-c54f-97bdd84295d9"
      },
      "execution_count": 9,
      "outputs": [
        {
          "output_type": "stream",
          "name": "stdout",
          "text": [
            "Alice\n",
            "90\n",
            "{'student1': {'name': 'Alice', 'age': 20, 'marks': {'Math': 90, 'Science': 85}}, 'student2': {'name': 'Bob', 'age': 21, 'marks': {'Math': 78, 'Science': 92}}}\n"
          ]
        }
      ]
    },
    {
      "cell_type": "markdown",
      "source": [
        "Q17.Describe the time complexity of accessing elements\n",
        " in a dictionary?\n",
        "\n",
        " > In Python, a dictionary is implemented using a hash table.\n",
        " Each key is hashed to determine where its value is stored in memory.\n",
        " This makes element access very fast.\n",
        "\n",
        "  Time Complexity:\n",
        " Average Case:\n",
        "O(1)\n",
        "\n",
        "→\n",
        " Constant time\n",
        " Reason: Hashing allows direct access to the value using its key.\n",
        " Worst Case:\n",
        "O(n)\n",
        "\n",
        "→\n",
        " > Linear time\n",
        " Reason: Can happen if hash collisions occur and all keys fall into the same bucket (rare in\n",
        " Python's implementation)."
      ],
      "metadata": {
        "id": "ZqUUA87ap90H"
      }
    },
    {
      "cell_type": "code",
      "source": [
        "# Creating a dictionary\n",
        "my_dict = {\"a\": 10, \"b\": 20, \"c\": 30}\n",
        " # Accessing elements\n",
        "print(my_dict[\"a\"])  # O(1) operation\n",
        "print(my_dict[\"c\"])  # O(1) operation\n"
      ],
      "metadata": {
        "colab": {
          "base_uri": "https://localhost:8080/"
        },
        "id": "GjwNY0uQqCuj",
        "outputId": "5210b3b8-36f0-4740-def1-b83168e80868"
      },
      "execution_count": 26,
      "outputs": [
        {
          "output_type": "stream",
          "name": "stdout",
          "text": [
            "10\n",
            "30\n"
          ]
        }
      ]
    },
    {
      "cell_type": "markdown",
      "source": [
        "Q18. In what situations are lists preferred over\n",
        " dictionaries?\n",
        "\n",
        " > When to Prefer Lists:\n",
        " 1. Order Matters\n",
        " Lists maintain the order of elements by index.\n",
        " Useful when you need to process items in a specific sequence.\n",
        " 2. No Need for Key-Value Pairs\n",
        " If your data doesn't require unique keys and you just want to store values.\n",
        " 3. Duplicate Values Are Allowed\n",
        " Lists can store the same value multiple times, unlike sets or dictionary keys.\n",
        " 4. Index-Based Access is Needed\n",
        " You can access elements directly using their index (e.g.,\n",
        "my_list[0]\n",
        " )"
      ],
      "metadata": {
        "id": "4Cap_Sb-qF2z"
      }
    },
    {
      "cell_type": "code",
      "source": [
        " # Example where list is preferred\n",
        " # Storing marks of students in order of roll numbers\n",
        "student_marks = [85, 90, 78, 92, 88]\n",
        " # Accessing marks of 3rd student (roll number 3)\n",
        "print(\"Marks of student with roll no 3:\", student_marks[2])\n",
        " # Adding a new student's marks\n",
        "student_marks.append(95)\n",
        " # Display updated list\n",
        "print(\"Updated Marks List:\", student_marks)"
      ],
      "metadata": {
        "colab": {
          "base_uri": "https://localhost:8080/"
        },
        "id": "WBeuW9iJIh5P",
        "outputId": "0f9adc21-7096-451b-ad88-16f084b9fe3b"
      },
      "execution_count": 27,
      "outputs": [
        {
          "output_type": "stream",
          "name": "stdout",
          "text": [
            "Marks of student with roll no 3: 78\n",
            "Updated Marks List: [85, 90, 78, 92, 88, 95]\n"
          ]
        }
      ]
    },
    {
      "cell_type": "markdown",
      "source": [
        " Q19. Why are dictionaries considered unordered, and how\n",
        " does that affect data retrieval ?\n",
        "\n",
        ">  Before Python 3.7: Dictionaries did not preserve the order of insertion, meaning the order\n",
        " of items could appear random.\n",
        " From Python 3.7 onwards: Dictionaries preserve insertion order, but conceptually they are\n",
        " still unordered collections, because:\n",
        " Access to values is based on keys (hashing), not position.\n",
        " You cannot rely on indexes like lists (\n",
        " dict[0]\n",
        " is invalid).\n",
        "\n",
        "> Effect on Data Retrieval:\n",
        " 1. No Index-Based Access\n",
        " Retrieval happens through keys, not positions.\n",
        " 2. Fast Access Using Keys\n",
        " Average time complexity for lookup is O(1) because of hash table implementation.\n",
        " 3. Iteration Order May Not Matter\n",
        " If your program logic depends on data order, a dictionary might not be suitable\n",
        " unless you explicitly maintain order."
      ],
      "metadata": {
        "id": "lN-Pi9k9qJ7p"
      }
    },
    {
      "cell_type": "code",
      "source": [
        " # Example: Dictionary (unordered concept)\n",
        "student_data = {\n",
        " \"name\": \"Alice\",\n",
        " \"age\": 21,\n",
        " \"course\": \"Computer Science\"\n",
        " }\n",
        " # Access by key\n",
        "print(\"Student Name:\", student_data[\"name\"])\n",
        "print(\"Student Age:\", student_data[\"age\"])\n",
        " # Iterating over dictionary\n",
        "print(\"\\nDictionary Items:\")\n",
        "for key, value in student_data.items():\n",
        "    print(key, \":\", value)\n",
        " # Trying index access (will cause error)\n",
        " # print(student_data[0])  #  This will raise a KeyError"
      ],
      "metadata": {
        "colab": {
          "base_uri": "https://localhost:8080/"
        },
        "id": "b66_dqYFI3gU",
        "outputId": "9daaa5dd-85b3-47cd-b4d1-c657f05442b6"
      },
      "execution_count": 32,
      "outputs": [
        {
          "output_type": "stream",
          "name": "stdout",
          "text": [
            "Student Name: Alice\n",
            "Student Age: 21\n",
            "\n",
            "Dictionary Items:\n",
            "name : Alice\n",
            "age : 21\n",
            "course : Computer Science\n"
          ]
        }
      ]
    },
    {
      "cell_type": "markdown",
      "source": [
        "Practice Question"
      ],
      "metadata": {
        "id": "vQMkvZ_GqKGk"
      }
    },
    {
      "cell_type": "code",
      "source": [
        " # Q1. Write a code to create a string with your name and print it\n",
        " name = \"Ritesh\"\n",
        " print(name)"
      ],
      "metadata": {
        "colab": {
          "base_uri": "https://localhost:8080/"
        },
        "id": "-uNJUoxKqgm1",
        "outputId": "e2919812-63dd-4ee1-b666-58af4bf85582"
      },
      "execution_count": 3,
      "outputs": [
        {
          "output_type": "stream",
          "name": "stdout",
          "text": [
            "Ritesh\n"
          ]
        }
      ]
    },
    {
      "cell_type": "code",
      "source": [
        "#Q2. Write a code to find the length of the string \"Hello World\"\n",
        "text = \"Hello World\"\n",
        "length = len(text)\n",
        "print(\"Length of the string:\", length)"
      ],
      "metadata": {
        "colab": {
          "base_uri": "https://localhost:8080/"
        },
        "id": "akXa4R-sqh8k",
        "outputId": "998fcc23-3958-4fbc-a1a0-7daf61723080"
      },
      "execution_count": 4,
      "outputs": [
        {
          "output_type": "stream",
          "name": "stdout",
          "text": [
            "Length of the string: 11\n"
          ]
        }
      ]
    },
    {
      "cell_type": "code",
      "source": [
        "# Q3.Write a code to slice the first 3 characters from the string \"Python Programming\".\n",
        "text = \"Python Programming\"\n",
        "first_three_chars = text[0:3]\n",
        "print(first_three_chars)"
      ],
      "metadata": {
        "colab": {
          "base_uri": "https://localhost:8080/"
        },
        "id": "HUhyHII-qiEE",
        "outputId": "6dcbb25f-1339-4665-dd59-af8272ff0957"
      },
      "execution_count": 6,
      "outputs": [
        {
          "output_type": "stream",
          "name": "stdout",
          "text": [
            "Pyt\n"
          ]
        }
      ]
    },
    {
      "cell_type": "code",
      "source": [
        " # Q4.Write a code to convert the string \"hello\" to uppercase\n",
        "text = \"hello\"\n",
        "uppercase_text = text.upper()\n",
        "print(uppercase_text)"
      ],
      "metadata": {
        "colab": {
          "base_uri": "https://localhost:8080/"
        },
        "id": "twtNn2vLqiJN",
        "outputId": "4ca91952-3308-4895-d2ea-158f9ba30998"
      },
      "execution_count": 7,
      "outputs": [
        {
          "output_type": "stream",
          "name": "stdout",
          "text": [
            "HELLO\n"
          ]
        }
      ]
    },
    {
      "cell_type": "code",
      "source": [
        " # Q5. Write a code to replace the word \"apple\" with \"orange\" in the string \"I like apple\"\n",
        "text = \"I like apple\"\n",
        "new_text = text.replace(\"apple\", \"orange\")\n",
        "print(new_text)"
      ],
      "metadata": {
        "colab": {
          "base_uri": "https://localhost:8080/"
        },
        "id": "hqoOZ7aIqiNe",
        "outputId": "197f2875-0079-4695-db80-b20cf1eb056b"
      },
      "execution_count": 8,
      "outputs": [
        {
          "output_type": "stream",
          "name": "stdout",
          "text": [
            "I like orange\n"
          ]
        }
      ]
    },
    {
      "cell_type": "code",
      "source": [
        " #Q6.Write a code to create a list with numbers 1 to 5 and print it\n",
        "numbers = [1, 2, 3, 4, 5]\n",
        "print(numbers)"
      ],
      "metadata": {
        "colab": {
          "base_uri": "https://localhost:8080/"
        },
        "id": "_7GhJmoGqiRL",
        "outputId": "c5082235-94ee-4619-b1f2-d8262a310f00"
      },
      "execution_count": 34,
      "outputs": [
        {
          "output_type": "stream",
          "name": "stdout",
          "text": [
            "[1, 2, 3, 4, 5]\n"
          ]
        }
      ]
    },
    {
      "cell_type": "code",
      "source": [
        " # Q7.Write a code to append the number 10 to the list [1, 2, 3, 4]\n",
        "numbers = [1, 2, 3, 4]\n",
        "numbers.append(10)\n",
        "print(numbers)"
      ],
      "metadata": {
        "colab": {
          "base_uri": "https://localhost:8080/"
        },
        "id": "4MAHwzfvqiU_",
        "outputId": "fad8e6a8-3e7b-46bc-b0ac-503781fb29f4"
      },
      "execution_count": 35,
      "outputs": [
        {
          "output_type": "stream",
          "name": "stdout",
          "text": [
            "[1, 2, 3, 4, 10]\n"
          ]
        }
      ]
    },
    {
      "cell_type": "code",
      "source": [
        " # Q8. Write a code to remove the number 3 from the list [1, 2, 3, 4, 5].\n",
        "numbers = [1, 2, 3, 4, 5]\n",
        "numbers.remove(3)\n",
        "print(numbers)"
      ],
      "metadata": {
        "colab": {
          "base_uri": "https://localhost:8080/"
        },
        "id": "nqGmm15oqiYw",
        "outputId": "5a4f749a-300d-495b-b326-542968f75c65"
      },
      "execution_count": 36,
      "outputs": [
        {
          "output_type": "stream",
          "name": "stdout",
          "text": [
            "[1, 2, 4, 5]\n"
          ]
        }
      ]
    },
    {
      "cell_type": "code",
      "source": [
        " # Q9. Write a code to access the second element in the list ['a', 'b', 'c', 'd']\n",
        "letters = ['a', 'b', 'c', 'd']\n",
        "second_element = letters[1]\n",
        "print(second_element)"
      ],
      "metadata": {
        "colab": {
          "base_uri": "https://localhost:8080/"
        },
        "id": "4hXlWigDJY-v",
        "outputId": "0c54c2d4-f74a-4097-aadc-c833b10d92ed"
      },
      "execution_count": 37,
      "outputs": [
        {
          "output_type": "stream",
          "name": "stdout",
          "text": [
            "b\n"
          ]
        }
      ]
    },
    {
      "cell_type": "code",
      "source": [
        "# Q10. Write a code to reverse the list [10, 20, 30, 40, 50].\n",
        "numbers = [10, 20, 30, 40, 50]\n",
        "numbers.reverse()\n",
        "print(numbers)"
      ],
      "metadata": {
        "colab": {
          "base_uri": "https://localhost:8080/"
        },
        "id": "yP1khMDUJY79",
        "outputId": "1008f2c2-974f-4719-f06e-a7acd02fe32b"
      },
      "execution_count": 38,
      "outputs": [
        {
          "output_type": "stream",
          "name": "stdout",
          "text": [
            "[50, 40, 30, 20, 10]\n"
          ]
        }
      ]
    },
    {
      "cell_type": "code",
      "source": [
        " #Q11. Write a code to create a tuple with the elements 100, 200, 300 and print it.\n",
        "my_tuple = (100, 200, 300)\n",
        "print(my_tuple)"
      ],
      "metadata": {
        "colab": {
          "base_uri": "https://localhost:8080/"
        },
        "id": "OtzQ7v1pJY5f",
        "outputId": "d6a40c6d-2a7e-423c-8621-ddca6168e8f5"
      },
      "execution_count": 39,
      "outputs": [
        {
          "output_type": "stream",
          "name": "stdout",
          "text": [
            "(100, 200, 300)\n"
          ]
        }
      ]
    },
    {
      "cell_type": "code",
      "source": [
        " # Q12. Write a code to access the second-to-last element of the tuple ('red', 'green', 'b\n",
        "colors = ('red', 'green', 'blue', 'yellow')\n",
        "print(colors[1:])\n"
      ],
      "metadata": {
        "id": "Yd0HFAXXJY27"
      },
      "execution_count": null,
      "outputs": []
    },
    {
      "cell_type": "code",
      "source": [
        " # Q13. Write a code to find the minimum number in the tuple (10, 20, 5, 15).\n",
        "numbers = (10, 20, 5, 15)\n",
        "print(min(numbers))\n"
      ],
      "metadata": {
        "colab": {
          "base_uri": "https://localhost:8080/"
        },
        "id": "9kxlUArdJY0X",
        "outputId": "03ca39ee-3366-4724-a739-326c08a12808"
      },
      "execution_count": 40,
      "outputs": [
        {
          "output_type": "stream",
          "name": "stdout",
          "text": [
            "5\n"
          ]
        }
      ]
    },
    {
      "cell_type": "code",
      "source": [
        "# Q14. Write a code to find the index of the element \"cat\" in the tuple ('dog', 'cat', 'r\n",
        "\n",
        "animals = ('dog', 'cat', 'rabbit')\n",
        "print(animals.index(\"cat\"))"
      ],
      "metadata": {
        "colab": {
          "base_uri": "https://localhost:8080/"
        },
        "id": "nt8hP2vgJYxu",
        "outputId": "df5628b9-4e5b-4da3-8acd-da851e1319ea"
      },
      "execution_count": 41,
      "outputs": [
        {
          "output_type": "stream",
          "name": "stdout",
          "text": [
            "1\n"
          ]
        }
      ]
    },
    {
      "cell_type": "code",
      "source": [
        " # Q15. Write a code to create a tuple containing three different fruits and check if \"kiw\n",
        "fruits = (\"apple\", \"banana\", \"orange\")\n",
        "print(\"kiwi\" in fruits)"
      ],
      "metadata": {
        "colab": {
          "base_uri": "https://localhost:8080/"
        },
        "id": "Jk5cpF4vJYvD",
        "outputId": "456667fa-74e5-4a1c-9d8d-c35a32848330"
      },
      "execution_count": 42,
      "outputs": [
        {
          "output_type": "stream",
          "name": "stdout",
          "text": [
            "False\n"
          ]
        }
      ]
    },
    {
      "cell_type": "code",
      "source": [
        "# Q16. Write a code to create a set with the elements 'a', 'b', 'c' and print it\n",
        "my_set = {'a', 'b', 'c'}\n",
        "print(my_set)\n"
      ],
      "metadata": {
        "colab": {
          "base_uri": "https://localhost:8080/"
        },
        "id": "w1kUSOXrJYsi",
        "outputId": "2a51953c-61ff-437d-ccf2-a9a9a2f48848"
      },
      "execution_count": 43,
      "outputs": [
        {
          "output_type": "stream",
          "name": "stdout",
          "text": [
            "{'a', 'b', 'c'}\n"
          ]
        }
      ]
    },
    {
      "cell_type": "code",
      "source": [
        "# Q17. Write a code to clear all elements from the set {1, 2, 3, 4, 5}.\n",
        "my_set = {1, 2, 3, 4, 5}\n",
        "my_set.clear()\n",
        "print(my_set)"
      ],
      "metadata": {
        "colab": {
          "base_uri": "https://localhost:8080/"
        },
        "id": "cMGK9ZR6JYp9",
        "outputId": "de29084f-9f05-407d-a93d-dee7d8154f3c"
      },
      "execution_count": 44,
      "outputs": [
        {
          "output_type": "stream",
          "name": "stdout",
          "text": [
            "set()\n"
          ]
        }
      ]
    },
    {
      "cell_type": "code",
      "source": [
        "# Q18. Write a code to remove the element 4 from the set {1, 2, 3, 4}\n",
        "my_set = {1, 2, 3, 4}\n",
        "my_set.remove(4)\n",
        "print(my_set)"
      ],
      "metadata": {
        "colab": {
          "base_uri": "https://localhost:8080/"
        },
        "id": "d85ey-csK1Pd",
        "outputId": "90a7f32f-8c64-428b-afca-41b7489d0fda"
      },
      "execution_count": 46,
      "outputs": [
        {
          "output_type": "stream",
          "name": "stdout",
          "text": [
            "{1, 2, 3}\n"
          ]
        }
      ]
    },
    {
      "cell_type": "code",
      "source": [
        "# Q19. Write a code to find the union of two sets {1, 2, 3} and {3, 4, 5}\n",
        "set1 = {1, 2, 3}\n",
        "set2 = {3, 4, 5}\n",
        "result = set1.union(set2)\n",
        "print(result)"
      ],
      "metadata": {
        "colab": {
          "base_uri": "https://localhost:8080/"
        },
        "id": "u9XCVis2K1M2",
        "outputId": "5beccd42-6a6b-4ea9-bafb-adf57b0bb229"
      },
      "execution_count": 47,
      "outputs": [
        {
          "output_type": "stream",
          "name": "stdout",
          "text": [
            "{1, 2, 3, 4, 5}\n"
          ]
        }
      ]
    },
    {
      "cell_type": "code",
      "source": [
        "#Q20. Write a code to find the intersection of two sets {1, 2, 3} and {2, 3, 4}.\n",
        "set1 = {1, 2, 3}\n",
        "set2 = {2, 3, 4}\n",
        "result = set1.intersection(set2)\n",
        "print(result)\n",
        "{2, 3}"
      ],
      "metadata": {
        "colab": {
          "base_uri": "https://localhost:8080/"
        },
        "id": "ZHg3RPKlK1KO",
        "outputId": "f93b411d-fdc4-48ed-c691-270d98446d36"
      },
      "execution_count": 48,
      "outputs": [
        {
          "output_type": "stream",
          "name": "stdout",
          "text": [
            "{2, 3}\n"
          ]
        },
        {
          "output_type": "execute_result",
          "data": {
            "text/plain": [
              "{2, 3}"
            ]
          },
          "metadata": {},
          "execution_count": 48
        }
      ]
    },
    {
      "cell_type": "code",
      "source": [
        "# Q21. Write a code to create a dictionary with the keys \"name\", \"age\", and \"city\", and p\n",
        "my_dict = {\n",
        " \"name\": \"Ritesh\",\n",
        " \"age\": 22,\n",
        " \"city\": \"Nalanda, BIHAR\"\n",
        " }\n",
        "print(my_dict)"
      ],
      "metadata": {
        "colab": {
          "base_uri": "https://localhost:8080/"
        },
        "id": "klawibzmK1Hv",
        "outputId": "24dce883-05d0-42d5-ca7c-9c89d8ded69c"
      },
      "execution_count": 49,
      "outputs": [
        {
          "output_type": "stream",
          "name": "stdout",
          "text": [
            "{'name': 'Ritesh', 'age': 22, 'city': 'Nalanda, BIHAR'}\n"
          ]
        }
      ]
    },
    {
      "cell_type": "code",
      "source": [
        "# Q22 Write a code to add a new key-value pair \"country\": \"USA\" to the dictionary {'name\n",
        " # Original dictionary\n",
        "person = {'name': 'John', 'age': 25}\n",
        " # Adding new key-value pair\n",
        "person['country'] = 'USA'\n",
        " # Printing updated dictionary\n",
        "print(person)"
      ],
      "metadata": {
        "id": "oA5XpyK-K1FC"
      },
      "execution_count": null,
      "outputs": []
    },
    {
      "cell_type": "code",
      "source": [
        " # Q23. Write a code to access the value associated with the key \"name\" in the dictionary\n",
        "person = {'name': 'Alice', 'age': 30}\n",
        "print(person['name'])\n",
        "\n",
        " # Accessing value using key"
      ],
      "metadata": {
        "colab": {
          "base_uri": "https://localhost:8080/"
        },
        "id": "jzr8CPTWK1Cc",
        "outputId": "e3793a2d-ed2e-4682-84a0-7d7c325d8bc1"
      },
      "execution_count": 51,
      "outputs": [
        {
          "output_type": "stream",
          "name": "stdout",
          "text": [
            "Alice\n"
          ]
        }
      ]
    },
    {
      "cell_type": "code",
      "source": [
        "# Q24. Write a code to remove the key \"age\" from the dictionary {'name': 'Bob', 'age': 22\n",
        "person = {'name': 'Bob', 'age': 22, 'city': 'New York'}\n",
        " # Removing key 'age'\n",
        "del person['age']\n",
        "print(person)"
      ],
      "metadata": {
        "colab": {
          "base_uri": "https://localhost:8080/"
        },
        "id": "rWGAjqsuK0_z",
        "outputId": "a54511ff-2a96-4f7d-f44b-b55a92db7dc6"
      },
      "execution_count": 52,
      "outputs": [
        {
          "output_type": "stream",
          "name": "stdout",
          "text": [
            "{'name': 'Bob', 'city': 'New York'}\n"
          ]
        }
      ]
    },
    {
      "cell_type": "code",
      "source": [
        "# Q25. Write a code to check if the key \"city\" exists in the dictionary {'name': 'Alice',\n",
        "person = {'name': 'Alice', 'city': 'Paris'}\n",
        " # Check if 'city' key exists\n",
        "print('city' in person)"
      ],
      "metadata": {
        "colab": {
          "base_uri": "https://localhost:8080/"
        },
        "id": "yOBc3cawK09S",
        "outputId": "e195c198-5c39-4249-8304-7f20c1210581"
      },
      "execution_count": 53,
      "outputs": [
        {
          "output_type": "stream",
          "name": "stdout",
          "text": [
            "True\n"
          ]
        }
      ]
    },
    {
      "cell_type": "code",
      "source": [
        "# Q26 Write a code to create a list, a tuple, and a dictionary, and print them all.\n",
        " # Creating a list\n",
        "my_list = [1, 2, 3]\n",
        " # Creating a tuple\n",
        "my_tuple = (4, 5, 6)\n",
        " # Creating a dictionary\n",
        "my_dict = {'name': 'Alice', 'age': 25}\n",
        " # Printing all\n",
        "print(\"List:\", my_list)\n",
        "print(\"Tuple:\", my_tuple)\n",
        "print(\"Dictionary:\", my_dict)"
      ],
      "metadata": {
        "colab": {
          "base_uri": "https://localhost:8080/"
        },
        "id": "t3iqgrq8K06r",
        "outputId": "c4b9ac35-e868-4fd0-dca2-ce9e953a7f77"
      },
      "execution_count": 55,
      "outputs": [
        {
          "output_type": "stream",
          "name": "stdout",
          "text": [
            "List: [1, 2, 3]\n",
            "Tuple: (4, 5, 6)\n",
            "Dictionary: {'name': 'Alice', 'age': 25}\n"
          ]
        }
      ]
    },
    {
      "cell_type": "code",
      "source": [
        " #Q27. Write a code to create a list of 5 random numbers between 1 and 100, sort it in as\n",
        "import random\n",
        " # Create a list of 5 random numbers between 1 and 100\n",
        "random_numbers = [random.randint(1, 100) for _ in range(5)]\n",
        "# Sort the list in ascending order\n",
        "random_numbers.sort()\n",
        " # Print the sorted list\n",
        "print(random_numbers)"
      ],
      "metadata": {
        "id": "0v_UARUqK03q"
      },
      "execution_count": 56,
      "outputs": []
    },
    {
      "cell_type": "code",
      "source": [
        " # Q28. Write a code to create a list with strings and print the element at the third index\n",
        " # Creating a list of strings\n",
        "fruits = [\"apple\", \"banana\", \"cherry\", \"orange\", \"mango\"]\n",
        " # Accessing the element at the third index\n",
        "print(fruits[3])"
      ],
      "metadata": {
        "colab": {
          "base_uri": "https://localhost:8080/"
        },
        "id": "a5tkRtvIMkHC",
        "outputId": "16a93494-d25b-487a-dff3-984a630539eb"
      },
      "execution_count": 57,
      "outputs": [
        {
          "output_type": "stream",
          "name": "stdout",
          "text": [
            "orange\n"
          ]
        }
      ]
    },
    {
      "cell_type": "code",
      "source": [
        "# Q29.Write a code to combine two dictionaries into one and print the result\n",
        "dict1 = {'a': 1, 'b': 2}\n",
        "dict2 = {'c': 3, 'd': 4}\n",
        " # Merge dict2 into dict1\n",
        "dict1.update(dict2)\n",
        "print(dict1)"
      ],
      "metadata": {
        "colab": {
          "base_uri": "https://localhost:8080/"
        },
        "id": "6n-IdZUNMkEr",
        "outputId": "38b1ec30-2389-4860-9175-af95b1d075bf"
      },
      "execution_count": 58,
      "outputs": [
        {
          "output_type": "stream",
          "name": "stdout",
          "text": [
            "{'a': 1, 'b': 2, 'c': 3, 'd': 4}\n"
          ]
        }
      ]
    },
    {
      "cell_type": "code",
      "source": [
        " # Q30. Write a code to convert a list of strings into a set\n",
        " # List of strings\n",
        "fruits_list = [\"apple\", \"banana\", \"apple\", \"orange\", \"banana\"]\n",
        " # Convert list to set\n",
        "fruits_set = set(fruits_list)\n",
        "print(fruits_set)"
      ],
      "metadata": {
        "colab": {
          "base_uri": "https://localhost:8080/"
        },
        "id": "h1bnqAwCMkCF",
        "outputId": "e986005b-d41d-414a-e380-f038fc904abc"
      },
      "execution_count": 59,
      "outputs": [
        {
          "output_type": "stream",
          "name": "stdout",
          "text": [
            "{'banana', 'apple', 'orange'}\n"
          ]
        }
      ]
    },
    {
      "cell_type": "code",
      "source": [],
      "metadata": {
        "id": "PhZdk0cTMj_a"
      },
      "execution_count": null,
      "outputs": []
    }
  ]
}